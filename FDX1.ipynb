{
 "cells": [
  {
   "cell_type": "code",
   "execution_count": 1,
   "metadata": {},
   "outputs": [],
   "source": [
    "#O script permite o acesso ao NCBI e a extracção das informações relativas ao gene em estudo, guardando-as num ficheiro do tipo genbank.\n",
    "#Abaixo tem-se o que efectivamente é impresso na consola após se correr o dado script."
   ]
  },
  {
   "cell_type": "code",
   "execution_count": null,
   "metadata": {},
   "outputs": [],
   "source": [
    "from Bio import Entrez\n",
    "from Bio import SeqIO"
   ]
  },
  {
   "cell_type": "code",
   "execution_count": 3,
   "metadata": {},
   "outputs": [],
   "source": [
    "Entrez.email = \"beatrizmariarm@gmail.com\"\n",
    "handle = Entrez.efetch(db=\"nucleotide\",rettype=\"gb\",retmode=\"text\", id=\"NC_000010.11\", seq_start=\"1\",seq_stop=\"49000\")\n",
    "seq_record=SeqIO.read(handle,\"gb\")"
   ]
  },
  {
   "cell_type": "code",
   "execution_count": 4,
   "metadata": {},
   "outputs": [],
   "source": [
    "SeqIO.write(seq_record,\"gene.gb\",\"genbank\")\n",
    "handle.close()"
   ]
  },
  {
   "cell_type": "code",
   "execution_count": 5,
   "metadata": {},
   "outputs": [
    {
     "name": "stdout",
     "output_type": "stream",
     "text": [
      "REGISTO NCBI\n",
      "\n",
      "ID: NC_000010.11\n",
      "Name: NC_000010\n",
      "Description: Homo sapiens chromosome 10, GRCh38.p13 Primary Assembly\n",
      "Database cross-references: BioProject:PRJNA168, Assembly:GCF_000001405.39\n",
      "Number of features: 14\n",
      "/molecule_type=DNA\n",
      "/topology=linear\n",
      "/data_file_division=CON\n",
      "/date=09-DEC-2019\n",
      "/accessions=['NC_000010']\n",
      "/sequence_version=11\n",
      "/keywords=['RefSeq']\n",
      "/source=Homo sapiens (human)\n",
      "/organism=Homo sapiens\n",
      "/taxonomy=['Eukaryota', 'Metazoa', 'Chordata', 'Craniata', 'Vertebrata', 'Euteleostomi', 'Mammalia', 'Eutheria', 'Euarchontoglires', 'Primates', 'Haplorrhini', 'Catarrhini', 'Hominidae', 'Homo']\n",
      "/references=[Reference(title='Finishing the euchromatic sequence of the human genome', ...), Reference(title='The DNA sequence and comparative analysis of human chromosome 10', ...), Reference(title='Initial sequencing and analysis of the human genome', ...)]\n",
      "/comment=REFSEQ INFORMATION: The reference sequence is identical to\n",
      "CM000672.2.\n",
      "On Feb 3, 2014 this sequence version replaced NC_000010.10.\n",
      "Assembly Name: GRCh38.p13 Primary Assembly\n",
      "The DNA sequence is composed of genomic sequence, primarily\n",
      "finished clones that were sequenced as part of the Human Genome\n",
      "Project. PCR products and WGS shotgun sequence have been added\n",
      "where necessary to fill gaps or correct errors. All such additions\n",
      "are manually curated by GRC staff. For more information see:\n",
      "https://genomereference.org.\n",
      "Release 109.20191205\n",
      "pipeline\n",
      "RefSeq model\n",
      "/structured_comment=OrderedDict([('Genome-Annotation-Data', OrderedDict([('Annotation Provider', 'NCBI'), ('Annotation Status', 'Updated annotation'), ('Annotation Name', 'Homo sapiens Updated Annotation'), ('Annotation Version', '109.20191205'), ('Annotation Pipeline', 'NCBI eukaryotic genome annotation'), ('Annotation Software Version', '8.3'), ('Annotation Method', 'Best-placed RefSeq; propagated'), ('Features Annotated', 'Gene; mRNA; CDS; ncRNA')]))])\n",
      "Seq('NNNNNNNNNNNNNNNNNNNNNNNNNNNNNNNNNNNNNNNNNNNNNNNNNNNNNN...CCC', IUPACAmbiguousDNA())\n"
     ]
    }
   ],
   "source": [
    "record=SeqIO.read(\"gene.gb\",\"genbank\")\n",
    "print(\"REGISTO NCBI\" + \"\\n\")\n",
    "print(record)"
   ]
  },
  {
   "cell_type": "code",
   "execution_count": null,
   "metadata": {},
   "outputs": [],
   "source": [
    "#O script permite o acesso ao NCBI e a extracção das informações relativas à proteína do fdx1, guardando-as num ficheiro do tipo genbank. Abaixo tem-se o que efectivamente é impresso na consola após se correr o dado script."
   ]
  },
  {
   "cell_type": "code",
   "execution_count": 6,
   "metadata": {},
   "outputs": [],
   "source": [
    "handle=Entrez.efetch(db=\"protein\",rettype=\"gb\",retmode=\"text\",id=\"NP_004100.1\", seq_start=\"1\", seq_stop=\"200\")\n",
    "seq_record=SeqIO.read(handle,\"gb\")"
   ]
  },
  {
   "cell_type": "code",
   "execution_count": 7,
   "metadata": {},
   "outputs": [],
   "source": [
    "SeqIO.write(seq_record, 'proteinafdx1.gb', \"genbank\")\n",
    "handle.close ()"
   ]
  },
  {
   "cell_type": "code",
   "execution_count": 8,
   "metadata": {},
   "outputs": [
    {
     "name": "stdout",
     "output_type": "stream",
     "text": [
      "REGISTO NCBI\n",
      "\n",
      "ID: NP_004100.1\n",
      "Name: NP_004100\n",
      "Description: adrenodoxin, mitochondrial precursor [Homo sapiens]\n",
      "Number of features: 13\n",
      "/topology=linear\n",
      "/data_file_division=PRI\n",
      "/date=06-JUL-2019\n",
      "/accessions=['NP_004100']\n",
      "/sequence_version=1\n",
      "/keywords=['RefSeq', 'MANE Select']\n",
      "/source=Homo sapiens (human)\n",
      "/organism=Homo sapiens\n",
      "/taxonomy=['Eukaryota', 'Metazoa', 'Chordata', 'Craniata', 'Vertebrata', 'Euteleostomi', 'Mammalia', 'Eutheria', 'Euarchontoglires', 'Primates', 'Haplorrhini', 'Catarrhini', 'Hominidae', 'Homo']\n",
      "/references=[Reference(title='Active Site Structures of CYP11A1 in the Presence of Its Physiological Substrates and Alterations upon Binding of Adrenodoxin', ...), Reference(title='Molecular Recognition in Mitochondrial Cytochromes P450 That Catalyze the Terminal Steps of Corticosteroid Biosynthesis', ...), Reference(title='Human Mitochondrial Ferredoxin 1 (FDX1) and Ferredoxin 2 (FDX2) Both Bind Cysteine Desulfurase and Donate Electrons for Iron-Sulfur Cluster Biosynthesis', ...), Reference(title='Association between CCDC132, FDX1 and TNFSF13 gene polymorphisms and the risk of IgA nephropathy', ...), Reference(title='Genetic polymorphisms in TNFSF13 and FDX1 are associated with IgA nephropathy in the Han Chinese population', ...), Reference(title='Identification by site-directed mutagenesis of two lysine residues in cholesterol side chain cleavage cytochrome P450 that are essential for adrenodoxin binding', ...), Reference(title='Site-specific mutations in human ferredoxin that affect binding to ferredoxin reductase and cytochrome P450scc', ...), Reference(title='1H NMR spectra of vertebrate [2Fe-2S] ferredoxins. Hyperfine resonances suggest different electron delocalization patterns from plant ferredoxins', ...), Reference(title='Regional mapping of genes encoding human steroidogenic enzymes: P450scc to 15q23-q24, adrenodoxin to 11q22; adrenodoxin reductase to 17q24-q25; and P450c17 to 10q24-q25', ...), Reference(title='Structure, sequence, chromosomal location, and evolution of the human ferredoxin gene family', ...)]\n",
      "/comment=REVIEWED REFSEQ: This record has been curated by NCBI staff. The\n",
      "reference sequence was derived from DB459133.1, BC010284.1,\n",
      "CN333249.1 and AA505582.1.\n",
      "Summary: This gene encodes a small iron-sulfur protein that\n",
      "transfers electrons from NADPH through ferredoxin reductase to\n",
      "mitochondrial cytochrome P450, involved in steroid, vitamin D, and\n",
      "bile acid metabolism. Pseudogenes of this functional gene are found\n",
      "on chromosomes 20 and 21. [provided by RefSeq, Aug 2011].\n",
      "Publication Note:  This RefSeq record includes a subset of the\n",
      "publications that are available for this gene. Please see the Gene\n",
      "record to access additional publications.\n",
      "[ECO:0000332]\n",
      "SAMEA1965299, SAMEA1966682\n",
      "[ECO:0000348]\n",
      "ENSP00000260270.2\n",
      "protein-coding transcript\n",
      "/structured_comment=OrderedDict([('Evidence-Data', OrderedDict([('Transcript exon combination', 'BC010284.1, SRR1803617.201753.1'), ('RNAseq introns', 'single sample supports all introns')])), ('RefSeq-Attributes', OrderedDict([('gene product(s) localized to mito.', 'reported by MitoCarta'), ('MANE Ensembl match', 'ENST00000260270.3/'), ('RefSeq Select criteria', 'based on single')]))])\n",
      "Seq('MAAAGGARLLRAASAVLGGPAGRWLHHAGSRAGSSGLLRNRGPGGSAEASRSLS...KTS', IUPACProtein())\n"
     ]
    }
   ],
   "source": [
    "record=SeqIO.read(\"proteinafdx1.gb\",\"genbank\")\n",
    "print (\"REGISTO NCBI\" + \"\\n\")\n",
    "print (record)"
   ]
  },
  {
   "cell_type": "code",
   "execution_count": null,
   "metadata": {},
   "outputs": [],
   "source": [
    "#O script dá-nos a quantidade total de features do gene em estudo, identificando os do tipo CDS. Como também, fornece informação quanto aos qualifiers e faz a tradução do gene. \n",
    "#Abaixo tem-se o que efectivamente é impresso na consola após se correr o dado script."
   ]
  },
  {
   "cell_type": "code",
   "execution_count": 9,
   "metadata": {},
   "outputs": [
    {
     "name": "stdout",
     "output_type": "stream",
     "text": [
      "index 0, ID = NC_000010.11, lenght 49000, with 14 features\n",
      "ID: NC_000010.11\n",
      "Name: NC_000010\n",
      "Description: Homo sapiens chromosome 10, GRCh38.p13 Primary Assembly\n",
      "Database cross-references: BioProject:PRJNA168, Assembly:GCF_000001405.39\n",
      "Number of features: 14\n",
      "/molecule_type=DNA\n",
      "/topology=linear\n",
      "/data_file_division=CON\n",
      "/date=09-DEC-2019\n",
      "/accessions=['NC_000010']\n",
      "/sequence_version=11\n",
      "/keywords=['RefSeq']\n",
      "/source=Homo sapiens (human)\n",
      "/organism=Homo sapiens\n",
      "/taxonomy=['Eukaryota', 'Metazoa', 'Chordata', 'Craniata', 'Vertebrata', 'Euteleostomi', 'Mammalia', 'Eutheria', 'Euarchontoglires', 'Primates', 'Haplorrhini', 'Catarrhini', 'Hominidae', 'Homo']\n",
      "/references=[Reference(title='Finishing the euchromatic sequence of the human genome', ...), Reference(title='The DNA sequence and comparative analysis of human chromosome 10', ...), Reference(title='Initial sequencing and analysis of the human genome', ...)]\n",
      "/comment=REFSEQ INFORMATION: The reference sequence is identical to\n",
      "CM000672.2.\n",
      "On Feb 3, 2014 this sequence version replaced NC_000010.10.\n",
      "Assembly Name: GRCh38.p13 Primary Assembly\n",
      "The DNA sequence is composed of genomic sequence, primarily\n",
      "finished clones that were sequenced as part of the Human Genome\n",
      "Project. PCR products and WGS shotgun sequence have been added\n",
      "where necessary to fill gaps or correct errors. All such additions\n",
      "are manually curated by GRC staff. For more information see:\n",
      "https://genomereference.org.\n",
      "Release 109.20191205\n",
      "pipeline\n",
      "RefSeq model\n",
      "/structured_comment=OrderedDict([('Genome-Annotation-Data', OrderedDict([('Annotation Provider', 'NCBI'), ('Annotation Status', 'Updated annotation'), ('Annotation Name', 'Homo sapiens Updated Annotation'), ('Annotation Version', '109.20191205'), ('Annotation Pipeline', 'NCBI eukaryotic genome annotation'), ('Annotation Software Version', '8.3'), ('Annotation Method', 'Best-placed RefSeq; propagated'), ('Features Annotated', 'Gene; mRNA; CDS; ncRNA')]))])\n",
      "Seq('NNNNNNNNNNNNNNNNNNNNNNNNNNNNNNNNNNNNNNNNNNNNNNNNNNNNNN...CCC', IUPACAmbiguousDNA())\n",
      "Features CDS\n",
      "5\n",
      "['tubulin beta-8 chain']\n",
      "\n",
      "Tradução: ['MREIVLTQIGQCGNQIGAKFWEVISDEHAIDSAGTYHGDSHLQLERINVYYNEASGGRYVPRAVLVDLEPGTMDSVRSGPFGQVFRPDNFIFGQCGAGNNWAKGHYTEGAELMESVMDVVRKEAESCDCLQGFQLTHSLGGGTGSGMGTLLLSKIREEYPDRIINTFSILPSPKVSDTVVEPYNATLSVHQLIENADETFCIDNEALYDICSKTLKLPTPTYGDLNHLVSATMSGVTTCLRFPGQLNADLRKLAVNMVPFPRLHFFMPGFAPLTSRGSQQYRALTVAELTQQMFDAKNMMAACDPRHGRYLTAAAIFRGRMPMREVDEQMFNIQDKNSSYFADWLPNNVKTAVCDIPPRGLKMSATFIGNNTAIQELFKRVSEQFTAMFRRKAFLHWYTGEGMDEMEFTEAESNMNDLVSEYQQYQDATAEEEEDEEYAEEEVA']\n",
      "['tubulin beta-8 chain isoform X3']\n",
      "\n",
      "Tradução: ['MDSVRSGPFGQVFRPDNFIFGQCGAGNNWAKGHYTEGAELMESVMDVVRKEAESCDCLQGFQLTHSLGGGTGSGMGTLLLSKIREEYPDRIINTFSILPSPKVSDTVVEPYNATLSVHQLIENADETFCIDNEALYDICSKTLKLPTPTYGDLNHLVSATMSGVTTCLRFPGQLNADLRKLAVNMVPFPRLHFFMPGFAPLTSRGSQQYRALTVAELTQQMFDAKNMMAACDPRHGRYLTAAAIFRGRMPMREVDEQMFNIQDKNSSYFADWLPNNVKTAVCDIPPRGLKMSATFIGNNTAIQELFKRVSEQFTAMFRRKAFLHWYTGEGMDEMEFTEAESNMNDLVSEYQQYQDATAEEEEDEEYAEEEVA']\n",
      "['tubulin beta-8 chain isoform X2']\n",
      "\n",
      "Tradução: ['MVVTTDDRIPGRRVTGCAVLQVSDTVVEPYNATLSVHQLIENADETFCIDNEALYDICSKTLKLPTPTYGDLNHLVSATMSGVTTCLRFPGQLNADLRKLAVNMVPFPRLHFFMPGFAPLTSRGSQQYRALTVAELTQQMFDAKNMMAACDPRHGRYLTAAAIFRGRMPMREVDEQMFNIQDKNSSYFADWLPNNVKTAVCDIPPRGLKMSATFIGNNTAIQELFKRVSEQFTAMFRRKAFLHWYTGEGMDEMEFTEAESNMNDLVSEYQQYQDATAEEEEDEEYAEEEVA']\n",
      "['tubulin beta-8 chain isoform X1']\n",
      "\n",
      "Tradução: ['MESVMDVVRKEAESCDCLQGFQLTHSLGGGTGSGMGTLLLSKIREEYPDRIINTFSILPSPKVSDTVVEPYNATLSVHQLIENADETFCIDNEALYDICSKTLKLPTPTYGDLNHLVSATMSGVTTCLRFPGQLNADLRKLAVNMVPFPRLHFFMPGFAPLTSRGSQQYRALTVAELTQQMFDAKNMMAACDPRHGRYLTAAAIFRGRMPMREVDEQMFNIQDKNSSYFADWLPNNVKTAVCDIPPRGLKMSATFIGNNTAIQELFKRVSEQFTAMFRRKAFLHWYTGEGMDEMEFTEAESNMNDLVSEYQQYQDATAEEEEDEEYAEEEVA']\n",
      "['tubulin beta-8 chain isoform X1']\n",
      "\n",
      "Tradução: ['MESVMDVVRKEAESCDCLQGFQLTHSLGGGTGSGMGTLLLSKIREEYPDRIINTFSILPSPKVSDTVVEPYNATLSVHQLIENADETFCIDNEALYDICSKTLKLPTPTYGDLNHLVSATMSGVTTCLRFPGQLNADLRKLAVNMVPFPRLHFFMPGFAPLTSRGSQQYRALTVAELTQQMFDAKNMMAACDPRHGRYLTAAAIFRGRMPMREVDEQMFNIQDKNSSYFADWLPNNVKTAVCDIPPRGLKMSATFIGNNTAIQELFKRVSEQFTAMFRRKAFLHWYTGEGMDEMEFTEAESNMNDLVSEYQQYQDATAEEEEDEEYAEEEVA']\n"
     ]
    }
   ],
   "source": [
    "for index, record in enumerate(SeqIO.parse(open(\"gene.gb\"),\"genbank\")):\n",
    "        print (\"index %i, ID = %s, lenght %i, with %i features\"\\\n",
    "        % (index, record.id, len(record.seq), len(record.features)))\n",
    "        print (record)\n",
    "\n",
    "\n",
    "featcds=[]\n",
    "for i in range(len(record.features)):\n",
    "    if record.features[i].type == \"CDS\":\n",
    "        featcds.append(i)\n",
    "\n",
    "print(\"Features CDS\")\n",
    "print(len(featcds))\n",
    "\n",
    "for k in featcds:\n",
    "    print (record.features[k].qualifiers[\"product\"])\n",
    "    print(\"\")\n",
    "    print(\"Tradução:\",record.features[k].qualifiers[\"translation\"])"
   ]
  },
  {
   "cell_type": "code",
   "execution_count": null,
   "metadata": {},
   "outputs": [],
   "source": [
    "#O script dá-nos a quantidade total de features da proteína isoforma 1, identificando os do tipo CDS. \n",
    "#Abaixo tem-se o que efectivamente é impresso na consola após se correr o dado script."
   ]
  },
  {
   "cell_type": "code",
   "execution_count": 11,
   "metadata": {},
   "outputs": [
    {
     "name": "stdout",
     "output_type": "stream",
     "text": [
      "index 0, ID = NP_004100.1, lenght 184, with 13 features\n",
      "ID: NP_004100.1\n",
      "Name: NP_004100\n",
      "Description: adrenodoxin, mitochondrial precursor [Homo sapiens]\n",
      "Number of features: 13\n",
      "/topology=linear\n",
      "/data_file_division=PRI\n",
      "/date=06-JUL-2019\n",
      "/accessions=['NP_004100']\n",
      "/sequence_version=1\n",
      "/keywords=['RefSeq', 'MANE Select']\n",
      "/source=Homo sapiens (human)\n",
      "/organism=Homo sapiens\n",
      "/taxonomy=['Eukaryota', 'Metazoa', 'Chordata', 'Craniata', 'Vertebrata', 'Euteleostomi', 'Mammalia', 'Eutheria', 'Euarchontoglires', 'Primates', 'Haplorrhini', 'Catarrhini', 'Hominidae', 'Homo']\n",
      "/references=[Reference(title='Active Site Structures of CYP11A1 in the Presence of Its Physiological Substrates and Alterations upon Binding of Adrenodoxin', ...), Reference(title='Molecular Recognition in Mitochondrial Cytochromes P450 That Catalyze the Terminal Steps of Corticosteroid Biosynthesis', ...), Reference(title='Human Mitochondrial Ferredoxin 1 (FDX1) and Ferredoxin 2 (FDX2) Both Bind Cysteine Desulfurase and Donate Electrons for Iron-Sulfur Cluster Biosynthesis', ...), Reference(title='Association between CCDC132, FDX1 and TNFSF13 gene polymorphisms and the risk of IgA nephropathy', ...), Reference(title='Genetic polymorphisms in TNFSF13 and FDX1 are associated with IgA nephropathy in the Han Chinese population', ...), Reference(title='Identification by site-directed mutagenesis of two lysine residues in cholesterol side chain cleavage cytochrome P450 that are essential for adrenodoxin binding', ...), Reference(title='Site-specific mutations in human ferredoxin that affect binding to ferredoxin reductase and cytochrome P450scc', ...), Reference(title='1H NMR spectra of vertebrate [2Fe-2S] ferredoxins. Hyperfine resonances suggest different electron delocalization patterns from plant ferredoxins', ...), Reference(title='Regional mapping of genes encoding human steroidogenic enzymes: P450scc to 15q23-q24, adrenodoxin to 11q22; adrenodoxin reductase to 17q24-q25; and P450c17 to 10q24-q25', ...), Reference(title='Structure, sequence, chromosomal location, and evolution of the human ferredoxin gene family', ...)]\n",
      "/comment=REVIEWED REFSEQ: This record has been curated by NCBI staff. The\n",
      "reference sequence was derived from DB459133.1, BC010284.1,\n",
      "CN333249.1 and AA505582.1.\n",
      "Summary: This gene encodes a small iron-sulfur protein that\n",
      "transfers electrons from NADPH through ferredoxin reductase to\n",
      "mitochondrial cytochrome P450, involved in steroid, vitamin D, and\n",
      "bile acid metabolism. Pseudogenes of this functional gene are found\n",
      "on chromosomes 20 and 21. [provided by RefSeq, Aug 2011].\n",
      "Publication Note:  This RefSeq record includes a subset of the\n",
      "publications that are available for this gene. Please see the Gene\n",
      "record to access additional publications.\n",
      "[ECO:0000332]\n",
      "SAMEA1965299, SAMEA1966682\n",
      "[ECO:0000348]\n",
      "ENSP00000260270.2\n",
      "protein-coding transcript\n",
      "/structured_comment=OrderedDict([('Evidence-Data', OrderedDict([('Transcript exon combination', 'BC010284.1, SRR1803617.201753.1'), ('RNAseq introns', 'single sample supports all introns')])), ('RefSeq-Attributes', OrderedDict([('gene product(s) localized to mito.', 'reported by MitoCarta'), ('MANE Ensembl match', 'ENST00000260270.3/'), ('RefSeq Select criteria', 'based on single')]))])\n",
      "Seq('MAAAGGARLLRAASAVLGGPAGRWLHHAGSRAGSSGLLRNRGPGGSAEASRSLS...KTS', IUPACProtein())\n",
      "Features CDS\n",
      "1\n"
     ]
    }
   ],
   "source": [
    "for index, record in enumerate(SeqIO.parse(open(\"proteinafdx1.gb\"),\"genbank\")):\n",
    "        print (\"index %i, ID = %s, lenght %i, with %i features\"\\\n",
    "        % (index, record.id, len(record.seq), len(record.features)))\n",
    "        print (record)\n",
    "\n",
    "\n",
    "featcds=[]\n",
    "for i in range(len(record.features)):\n",
    "    if record.features[i].type == \"CDS\":\n",
    "        featcds.append(i)\n",
    "\n",
    "print(\"Features CDS\")\n",
    "print(len(featcds))\n"
   ]
  },
  {
   "cell_type": "code",
   "execution_count": null,
   "metadata": {},
   "outputs": [],
   "source": [
    "#O script tem como principal função imprimir a localização dos features do gene.\n",
    "#Abaixo tem-se o que efectivamente é impresso na consola após se correr o dado script."
   ]
  },
  {
   "cell_type": "code",
   "execution_count": 12,
   "metadata": {},
   "outputs": [
    {
     "name": "stdout",
     "output_type": "stream",
     "text": [
      "Análise de features\n",
      "\n",
      "Features gene:\n",
      "2\n",
      "Locais:\n",
      "[1, 3]\n",
      "\n",
      "\n",
      "Features CDS:\n",
      "5\n",
      "Locais:\n",
      "[9, 10, 11, 12, 13]\n",
      "\n",
      "Outras features:\n",
      "7\n",
      "Locais: \n",
      "[0, 2, 4, 5, 6, 7, 8]\n"
     ]
    }
   ],
   "source": [
    "record = SeqIO.read(\"gene.gb\", \"genbank\")\n",
    "\n",
    "print ( \"Análise de features\")\n",
    "print (\"\")\n",
    "featuregene=[]\n",
    "featurecds = []\n",
    "outros=[]\n",
    "for i in range(len(record.features)): \n",
    "    if record.features[i].type == \"CDS\": \n",
    "        featurecds.append(i)\n",
    "    elif (record.features[i].type == \"gene\"):\n",
    "        featuregene.append(i)\n",
    "    else:\n",
    "        outros.append(i)\n",
    "    i=+1\n",
    "\n",
    "\n",
    "\n",
    "CDS_geneID =[]\n",
    "CDS_proteinID =[]\n",
    "\n",
    "for i in record.features:\n",
    "    if i.type == \"CDS\":\n",
    "         CDS_geneID.append(i.qualifiers[\"db_xref\"][1].strip(\"GeneID:\"))\n",
    "\n",
    "\n",
    "\n",
    "print(\"Features gene:\")\n",
    "print(len(featuregene))\n",
    "print(\"Locais:\")\n",
    "print(featuregene)\n",
    "print(\"\")\n",
    "print(\"\\n\" + \"Features CDS:\")\n",
    "print(len(featurecds))\n",
    "print(\"Locais:\")\n",
    "print(featurecds)\n",
    "print(\"\")\n",
    "print(\"Outras features:\")\n",
    "print(len(outros))\n",
    "print(\"Locais: \")\n",
    "print(outros)"
   ]
  },
  {
   "cell_type": "code",
   "execution_count": null,
   "metadata": {},
   "outputs": [],
   "source": [
    "#O script tem como principal função imprimir a localização dos features da proteína do fdx1.\n",
    "#Abaixo tem-se o que efectivamente é impresso na consola após se correr o dado script."
   ]
  },
  {
   "cell_type": "code",
   "execution_count": 13,
   "metadata": {},
   "outputs": [
    {
     "name": "stdout",
     "output_type": "stream",
     "text": [
      "Análise de features\n",
      "\n",
      "Features gene:\n",
      "0\n",
      "Locais:\n",
      "[]\n",
      "\n",
      "\n",
      "Features CDS:\n",
      "1\n",
      "Locais:\n",
      "[12]\n",
      "\n",
      "Outras features:\n",
      "12\n",
      "Locais: \n",
      "[0, 1, 2, 3, 4, 5, 6, 7, 8, 9, 10, 11]\n"
     ]
    }
   ],
   "source": [
    "record = SeqIO.read(\"proteinafdx1.gb\", \"genbank\")\n",
    "\n",
    "print ( \"Análise de features\")\n",
    "print (\"\")\n",
    "featuregene=[]\n",
    "featurecds = []\n",
    "outros=[]\n",
    "for i in range(len(record.features)): \n",
    "    if record.features[i].type == \"CDS\": \n",
    "        featurecds.append(i)\n",
    "    elif (record.features[i].type == \"gene\"):\n",
    "        featuregene.append(i)\n",
    "    else:\n",
    "        outros.append(i)\n",
    "    i=+1\n",
    "\n",
    "\n",
    "\n",
    "CDS_geneID =[]\n",
    "CDS_proteinID =[]\n",
    "\n",
    "for i in record.features:\n",
    "    if i.type == \"CDS\":\n",
    "         CDS_geneID.append(i.qualifiers[\"db_xref\"][1].strip(\"GeneID:\"))\n",
    "\n",
    "\n",
    "\n",
    "print(\"Features gene:\")\n",
    "print(len(featuregene))\n",
    "print(\"Locais:\")\n",
    "print(featuregene)\n",
    "print(\"\")\n",
    "print(\"\\n\" + \"Features CDS:\")\n",
    "print(len(featurecds))\n",
    "print(\"Locais:\")\n",
    "print(featurecds)\n",
    "print(\"\")\n",
    "print(\"Outras features:\")\n",
    "print(len(outros))\n",
    "print(\"Locais: \")\n",
    "print(outros)"
   ]
  },
  {
   "cell_type": "code",
   "execution_count": null,
   "metadata": {},
   "outputs": [],
   "source": [
    "#O script tem como principal função criar um ficheiro, chamado \"pesquisa.txt\", no qual apresenta uma pesquisa no pubmed do texto \"HIF1A, diabetes\".\n",
    "#Abaixo tem-se o que efectivamente é impresso na consola após se correr o dado script."
   ]
  },
  {
   "cell_type": "code",
   "execution_count": 14,
   "metadata": {},
   "outputs": [],
   "source": [
    "from Bio import Entrez\n",
    "from Bio import Medline\n",
    "\n",
    "Entrez.email = \"beatrizmariarm@gmail.com\"\n",
    "handle = Entrez.egquery(term = \"FDX1, melanoma\")\n",
    "record = Entrez.read(handle)\n",
    "\n",
    "\n",
    "for row in record[\"eGQueryResult\"]:\n",
    "    if row[\"DbName\"]==\"pubmed\":\n",
    "        y = row[\"Count\"]\n",
    "        \n",
    "\n",
    "handle = Entrez.esearch(db = \"pubmed\", term = \"FDX1, melanoma\", retmax=y)\n",
    "record = Entrez.read(handle)\n",
    "idlist = record[\"IdList\"]\n",
    "\n",
    "\n",
    "handle = Entrez.efetch(db=\"pubmed\", id=idlist, rettype=\"medline\", retmode=\"text\")\n",
    "records = list(Medline.parse(handle))\n",
    "record_results = open('pesquisa.txt', 'w')\n",
    "for record in records:\n",
    "    titulo=('Titulo: ', record.get('TI', '?'))\n",
    "    autores=('Autores: ', record.get('AU', '?'))\n",
    "    fonte=('Fonte: ', record.get('SO', '?'))\n",
    "    \n",
    "    record_results.write(str(titulo))\n",
    "    record_results.write(\"\\n\")\n",
    "    record_results.write(str(autores))\n",
    "    record_results.write(\"\\n\")\n",
    "    record_results.write(str(fonte))\n",
    "    record_results.write(\"\\n\")\n",
    "    record_results.write(\"\\n\")\n",
    "record_results.close()"
   ]
  },
  {
   "cell_type": "code",
   "execution_count": null,
   "metadata": {},
   "outputs": [],
   "source": []
  },
  {
   "cell_type": "code",
   "execution_count": null,
   "metadata": {},
   "outputs": [],
   "source": []
  }
 ],
 "metadata": {
  "kernelspec": {
   "display_name": "Python 3",
   "language": "python",
   "name": "python3"
  },
  "language_info": {
   "codemirror_mode": {
    "name": "ipython",
    "version": 3
   },
   "file_extension": ".py",
   "mimetype": "text/x-python",
   "name": "python",
   "nbconvert_exporter": "python",
   "pygments_lexer": "ipython3",
   "version": "3.7.3"
  }
 },
 "nbformat": 4,
 "nbformat_minor": 2
}
